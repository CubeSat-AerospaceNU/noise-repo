{
 "cells": [
  {
   "cell_type": "code",
   "execution_count": 2,
   "id": "743d0d74",
   "metadata": {},
   "outputs": [],
   "source": [
    "import os\n",
    "from PIL import Image\n",
    "from PIL import ImageFilter"
   ]
  },
  {
   "cell_type": "code",
   "execution_count": 9,
   "id": "a7af0ac0",
   "metadata": {},
   "outputs": [
    {
     "name": "stdout",
     "output_type": "stream",
     "text": [
      "Image directory: C:\\Users\\bahul\\Desktop\\!coding\\CubeSat\\noise-repo\n",
      "n1.jpg - saved to \\denoisedpil\n",
      "n11.jpg - saved to \\denoisedpil\n",
      "n12.jpg - saved to \\denoisedpil\n",
      "n14.png - saved to \\denoisedpil\n",
      "n15.jpg - saved to \\denoisedpil\n",
      "n16.png - saved to \\denoisedpil\n",
      "n17.jpg - saved to \\denoisedpil\n",
      "n18.jpg - saved to \\denoisedpil\n",
      "n19.jpg - saved to \\denoisedpil\n",
      "n2.jpg - saved to \\denoisedpil\n",
      "n20.png - saved to \\denoisedpil\n",
      "n3.png - saved to \\denoisedpil\n",
      "n4.png - saved to \\denoisedpil\n",
      "n5.jpg - saved to \\denoisedpil\n",
      "n6.jpg - saved to \\denoisedpil\n",
      "n7.jpg - saved to \\denoisedpil\n",
      "n8.png - saved to \\denoisedpil\n",
      "n9.jpg - saved to \\denoisedpil\n"
     ]
    }
   ],
   "source": [
    "directory = os.getcwd()\n",
    "print(f\"Image directory: {directory}\")\n",
    "\n",
    "filters = [ImageFilter.GaussianBlur(4), ImageFilter.SMOOTH, ImageFilter.EDGE_ENHANCE(), \n",
    "           ImageFilter.UnsharpMask(radius=3, percent=180, threshold=2), ImageFilter.MaxFilter(1)]\n",
    "\n",
    "for filename in os.listdir(directory):\n",
    "    if filename.endswith(\".jpg\") or filename.endswith(\".png\"):\n",
    "        img = Image.open(filename)\n",
    "        img = img.convert('RGB')\n",
    "        for filter in filters:\n",
    "            img = img.filter(filter)\n",
    "        img.save(f\"{directory}\\denoisedpil\\{filename}\")\n",
    "        print(f\"{filename} - saved to \\\\denoisedpil\")"
   ]
  },
  {
   "cell_type": "code",
   "execution_count": null,
   "id": "61975912",
   "metadata": {},
   "outputs": [],
   "source": []
  }
 ],
 "metadata": {
  "kernelspec": {
   "display_name": "Python 3 (ipykernel)",
   "language": "python",
   "name": "python3"
  },
  "language_info": {
   "codemirror_mode": {
    "name": "ipython",
    "version": 3
   },
   "file_extension": ".py",
   "mimetype": "text/x-python",
   "name": "python",
   "nbconvert_exporter": "python",
   "pygments_lexer": "ipython3",
   "version": "3.8.12"
  }
 },
 "nbformat": 4,
 "nbformat_minor": 5
}
